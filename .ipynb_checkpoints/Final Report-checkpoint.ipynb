{
 "cells": [
  {
   "cell_type": "markdown",
   "id": "2071c3de",
   "metadata": {
    "pycharm": {
     "name": "#%% md\n"
    }
   },
   "source": [
    "# Is there any difference between the proportions of high-school regular smokers in British Columbia and Ontario?"
   ]
  },
  {
   "cell_type": "code",
   "execution_count": 1,
   "id": "8235e0d8",
   "metadata": {
    "pycharm": {
     "name": "#%%\n"
    },
    "tags": []
   },
   "outputs": [
    {
     "name": "stderr",
     "output_type": "stream",
     "text": [
      "── \u001b[1mAttaching packages\u001b[22m ─────────────────────────────────────── tidyverse 1.3.1 ──\n",
      "\n",
      "\u001b[32m✔\u001b[39m \u001b[34mggplot2\u001b[39m 3.3.5     \u001b[32m✔\u001b[39m \u001b[34mpurrr  \u001b[39m 0.3.4\n",
      "\u001b[32m✔\u001b[39m \u001b[34mtibble \u001b[39m 3.1.6     \u001b[32m✔\u001b[39m \u001b[34mdplyr  \u001b[39m 1.0.8\n",
      "\u001b[32m✔\u001b[39m \u001b[34mtidyr  \u001b[39m 1.2.0     \u001b[32m✔\u001b[39m \u001b[34mstringr\u001b[39m 1.4.0\n",
      "\u001b[32m✔\u001b[39m \u001b[34mreadr  \u001b[39m 2.1.2     \u001b[32m✔\u001b[39m \u001b[34mforcats\u001b[39m 0.5.1\n",
      "\n",
      "Warning message:\n",
      "“package ‘tidyr’ was built under R version 4.1.2”\n",
      "Warning message:\n",
      "“package ‘readr’ was built under R version 4.1.2”\n",
      "── \u001b[1mConflicts\u001b[22m ────────────────────────────────────────── tidyverse_conflicts() ──\n",
      "\u001b[31m✖\u001b[39m \u001b[34mdplyr\u001b[39m::\u001b[32mfilter()\u001b[39m masks \u001b[34mstats\u001b[39m::filter()\n",
      "\u001b[31m✖\u001b[39m \u001b[34mdplyr\u001b[39m::\u001b[32mlag()\u001b[39m    masks \u001b[34mstats\u001b[39m::lag()\n",
      "\n"
     ]
    }
   ],
   "source": [
    "library(tidyverse)\n",
    "library(haven)"
   ]
  },
  {
   "cell_type": "markdown",
   "id": "8e8aea20",
   "metadata": {
    "pycharm": {
     "name": "#%% md\n"
    },
    "tags": []
   },
   "source": [
    "## Introduction\n",
    "\n",
    "#### Why we're interested in the topic\n",
    "Smoking becomes a common phenomenon among teenagers even though they know the negative effects of it. The prevalence of tobacco products makes it both more tempting to try and harder to quit for teenagers (Burton et al.). Scholars studying student smoking rates in ON (Reitsma and Manske) and BC (Johnson et al.) claim that the issue needs more attention as it causes severe health problems. Hence, our research analyses the problem by finding the **difference between the proportions of high-school regular smokers in British Columbia and Ontario**.\n",
    "\n",
    "#### Our data set\n",
    "We use the data obtained from a biennial school-based Health Canada's survey constructed in 2018/2019 that the studies smoking rates among Canadian students (Canada and Impact).\n",
    "\n",
    "#### Variables\n",
    "The variables we choose are aimed at defining our custom variable that determines whether a data set observation is a high-school student who is a regular smoker.\n",
    "\n",
    "| Variable   \t| Value   \t| Meaning                                                 \t|\n",
    "|------------\t|---------\t|---------------------------------------------------------\t|\n",
    "| **GRADE**  \t| [9, 12] \t| student is from a grade 9-12                            \t|\n",
    "| **DVRES**  \t| 1 or 3  \t| resident of Canada or has lived in Canada for 11+ years \t|\n",
    "| **TS_011** \t| 1 or 2  \t| will smoke a cigarette within next year                 \t|\n",
    "| **TV_010** \t| 1 or 2  \t| will use an e-cigarette within next year                \t|\n",
    "| **SS_040** \t| 1       \t| has smoked 100+ cigarettes                              \t|\n",
    "| **SS_060** \t| 7 or 8  \t| has smoked 20-30 cigarettes during the last 30 days     \t|\n",
    "| **WP_030** \t| 3 or 6  \t| has smoked every day in the past week                   \t|"
   ]
  },
  {
   "cell_type": "markdown",
   "id": "ebc90001-f446-462d-b1cd-c38af12322a7",
   "metadata": {},
   "source": [
    "## Methods\n",
    "\n",
    "#### Why our research is reliable\n",
    "* Data is from 2018-2019, so it is timely\n",
    "* Data set has many variables, so we can precisely define our \"regular smoker\" variable\n",
    "\n",
    "#### Calculation procedures for the final report\n",
    "We're conducting a hypothesis test of the difference between the proportions of high-school smoking students in BC and ON. Here's an outline:\n",
    "* Find point estimate\n",
    "* Use bootstrapping to create sampling distribution\n",
    "* Conduct hypothesis test using p-value\n",
    "    * Plot the bootstrap distribution with the p-value\n",
    "    * Decide on the rejection of H<sub>0</sub>\n",
    "* Conduct hypothesis test using CI\n",
    "    * Plot the bootstrap distribution with the CI endpoints\n",
    "* Compare the results of the p-value and CI approaches\n",
    "    \n",
    "Below we calculate the point estimate, i.e., we do the first step in the plan."
   ]
  },
  {
   "cell_type": "markdown",
   "id": "08c15286",
   "metadata": {
    "pycharm": {
     "name": "#%% md\n"
    }
   },
   "source": [
    "## Preliminary Data Analysis"
   ]
  },
  {
   "cell_type": "markdown",
   "id": "bf399ea1-9ae1-454c-a0a8-7478cacc6189",
   "metadata": {},
   "source": [
    "#### Reading the data"
   ]
  },
  {
   "cell_type": "code",
   "execution_count": 9,
   "id": "5e249921-db0a-4109-9d04-c3e7bf21b3a4",
   "metadata": {},
   "outputs": [
    {
     "data": {
      "text/html": [
       "<table class=\"dataframe\">\n",
       "<caption>A tibble: 6 × 185</caption>\n",
       "<thead>\n",
       "\t<tr><th scope=col>SCANID</th><th scope=col>MODULE</th><th scope=col>PROVID</th><th scope=col>SCHID</th><th scope=col>GRADE</th><th scope=col>SEX</th><th scope=col>SS_010</th><th scope=col>SS_020</th><th scope=col>TS_011</th><th scope=col>TV_010</th><th scope=col>⋯</th><th scope=col>DVTY2ST</th><th scope=col>DVLAST30</th><th scope=col>DVAMTSMK</th><th scope=col>DVCIGWK</th><th scope=col>DVNDSMK</th><th scope=col>DVAVCIGD</th><th scope=col>DVRES</th><th scope=col>DVURBAN</th><th scope=col>DVHHINC2</th><th scope=col>WTPP</th></tr>\n",
       "\t<tr><th scope=col>&lt;dbl&gt;</th><th scope=col>&lt;dbl+lbl&gt;</th><th scope=col>&lt;dbl+lbl&gt;</th><th scope=col>&lt;dbl&gt;</th><th scope=col>&lt;dbl+lbl&gt;</th><th scope=col>&lt;dbl+lbl&gt;</th><th scope=col>&lt;dbl+lbl&gt;</th><th scope=col>&lt;dbl+lbl&gt;</th><th scope=col>&lt;dbl+lbl&gt;</th><th scope=col>&lt;dbl+lbl&gt;</th><th scope=col>⋯</th><th scope=col>&lt;dbl+lbl&gt;</th><th scope=col>&lt;dbl+lbl&gt;</th><th scope=col>&lt;dbl+lbl&gt;</th><th scope=col>&lt;dbl+lbl&gt;</th><th scope=col>&lt;dbl+lbl&gt;</th><th scope=col>&lt;dbl+lbl&gt;</th><th scope=col>&lt;dbl+lbl&gt;</th><th scope=col>&lt;dbl+lbl&gt;</th><th scope=col>&lt;dbl&gt;</th><th scope=col>&lt;dbl&gt;</th></tr>\n",
       "</thead>\n",
       "<tbody>\n",
       "\t<tr><td>100224</td><td>1</td><td>35</td><td>3589267</td><td> 9</td><td>1</td><td>1</td><td>13</td><td>2</td><td>3</td><td>⋯</td><td>1</td><td>1</td><td> 1</td><td> 8</td><td> 5</td><td> 2</td><td>1</td><td>2</td><td>60000</td><td> 33.15</td></tr>\n",
       "\t<tr><td>100225</td><td>1</td><td>35</td><td>3589267</td><td> 9</td><td>1</td><td>1</td><td>13</td><td>1</td><td>1</td><td>⋯</td><td>1</td><td>1</td><td>10</td><td>70</td><td> 7</td><td>10</td><td>1</td><td>2</td><td>60000</td><td> 33.15</td></tr>\n",
       "\t<tr><td>100226</td><td>1</td><td>35</td><td>3589267</td><td>12</td><td>1</td><td>2</td><td>NA</td><td>4</td><td>3</td><td>⋯</td><td>7</td><td>2</td><td>NA</td><td>NA</td><td>NA</td><td>NA</td><td>3</td><td>2</td><td>60000</td><td> 75.14</td></tr>\n",
       "\t<tr><td>100227</td><td>1</td><td>35</td><td>3589267</td><td>12</td><td>2</td><td>1</td><td>NA</td><td>3</td><td>2</td><td>⋯</td><td>4</td><td>1</td><td> 0</td><td> 0</td><td> 0</td><td> 0</td><td>1</td><td>2</td><td>60000</td><td>105.70</td></tr>\n",
       "\t<tr><td>100228</td><td>1</td><td>35</td><td>3589267</td><td>12</td><td>1</td><td>1</td><td>NA</td><td>3</td><td>3</td><td>⋯</td><td>6</td><td>2</td><td>NA</td><td>NA</td><td>NA</td><td>NA</td><td>1</td><td>2</td><td>60000</td><td> 75.14</td></tr>\n",
       "\t<tr><td>100229</td><td>1</td><td>35</td><td>3589267</td><td>11</td><td>1</td><td>2</td><td>NA</td><td>4</td><td>3</td><td>⋯</td><td>7</td><td>2</td><td>NA</td><td>NA</td><td>NA</td><td>NA</td><td>1</td><td>2</td><td>60000</td><td> 63.87</td></tr>\n",
       "</tbody>\n",
       "</table>\n"
      ],
      "text/latex": [
       "A tibble: 6 × 185\n",
       "\\begin{tabular}{lllllllllllllllllllll}\n",
       " SCANID & MODULE & PROVID & SCHID & GRADE & SEX & SS\\_010 & SS\\_020 & TS\\_011 & TV\\_010 & ⋯ & DVTY2ST & DVLAST30 & DVAMTSMK & DVCIGWK & DVNDSMK & DVAVCIGD & DVRES & DVURBAN & DVHHINC2 & WTPP\\\\\n",
       " <dbl> & <dbl+lbl> & <dbl+lbl> & <dbl> & <dbl+lbl> & <dbl+lbl> & <dbl+lbl> & <dbl+lbl> & <dbl+lbl> & <dbl+lbl> & ⋯ & <dbl+lbl> & <dbl+lbl> & <dbl+lbl> & <dbl+lbl> & <dbl+lbl> & <dbl+lbl> & <dbl+lbl> & <dbl+lbl> & <dbl> & <dbl>\\\\\n",
       "\\hline\n",
       "\t 100224 & 1 & 35 & 3589267 &  9 & 1 & 1 & 13 & 2 & 3 & ⋯ & 1 & 1 &  1 &  8 &  5 &  2 & 1 & 2 & 60000 &  33.15\\\\\n",
       "\t 100225 & 1 & 35 & 3589267 &  9 & 1 & 1 & 13 & 1 & 1 & ⋯ & 1 & 1 & 10 & 70 &  7 & 10 & 1 & 2 & 60000 &  33.15\\\\\n",
       "\t 100226 & 1 & 35 & 3589267 & 12 & 1 & 2 & NA & 4 & 3 & ⋯ & 7 & 2 & NA & NA & NA & NA & 3 & 2 & 60000 &  75.14\\\\\n",
       "\t 100227 & 1 & 35 & 3589267 & 12 & 2 & 1 & NA & 3 & 2 & ⋯ & 4 & 1 &  0 &  0 &  0 &  0 & 1 & 2 & 60000 & 105.70\\\\\n",
       "\t 100228 & 1 & 35 & 3589267 & 12 & 1 & 1 & NA & 3 & 3 & ⋯ & 6 & 2 & NA & NA & NA & NA & 1 & 2 & 60000 &  75.14\\\\\n",
       "\t 100229 & 1 & 35 & 3589267 & 11 & 1 & 2 & NA & 4 & 3 & ⋯ & 7 & 2 & NA & NA & NA & NA & 1 & 2 & 60000 &  63.87\\\\\n",
       "\\end{tabular}\n"
      ],
      "text/markdown": [
       "\n",
       "A tibble: 6 × 185\n",
       "\n",
       "| SCANID &lt;dbl&gt; | MODULE &lt;dbl+lbl&gt; | PROVID &lt;dbl+lbl&gt; | SCHID &lt;dbl&gt; | GRADE &lt;dbl+lbl&gt; | SEX &lt;dbl+lbl&gt; | SS_010 &lt;dbl+lbl&gt; | SS_020 &lt;dbl+lbl&gt; | TS_011 &lt;dbl+lbl&gt; | TV_010 &lt;dbl+lbl&gt; | ⋯ ⋯ | DVTY2ST &lt;dbl+lbl&gt; | DVLAST30 &lt;dbl+lbl&gt; | DVAMTSMK &lt;dbl+lbl&gt; | DVCIGWK &lt;dbl+lbl&gt; | DVNDSMK &lt;dbl+lbl&gt; | DVAVCIGD &lt;dbl+lbl&gt; | DVRES &lt;dbl+lbl&gt; | DVURBAN &lt;dbl+lbl&gt; | DVHHINC2 &lt;dbl&gt; | WTPP &lt;dbl&gt; |\n",
       "|---|---|---|---|---|---|---|---|---|---|---|---|---|---|---|---|---|---|---|---|---|\n",
       "| 100224 | 1 | 35 | 3589267 |  9 | 1 | 1 | 13 | 2 | 3 | ⋯ | 1 | 1 |  1 |  8 |  5 |  2 | 1 | 2 | 60000 |  33.15 |\n",
       "| 100225 | 1 | 35 | 3589267 |  9 | 1 | 1 | 13 | 1 | 1 | ⋯ | 1 | 1 | 10 | 70 |  7 | 10 | 1 | 2 | 60000 |  33.15 |\n",
       "| 100226 | 1 | 35 | 3589267 | 12 | 1 | 2 | NA | 4 | 3 | ⋯ | 7 | 2 | NA | NA | NA | NA | 3 | 2 | 60000 |  75.14 |\n",
       "| 100227 | 1 | 35 | 3589267 | 12 | 2 | 1 | NA | 3 | 2 | ⋯ | 4 | 1 |  0 |  0 |  0 |  0 | 1 | 2 | 60000 | 105.70 |\n",
       "| 100228 | 1 | 35 | 3589267 | 12 | 1 | 1 | NA | 3 | 3 | ⋯ | 6 | 2 | NA | NA | NA | NA | 1 | 2 | 60000 |  75.14 |\n",
       "| 100229 | 1 | 35 | 3589267 | 11 | 1 | 2 | NA | 4 | 3 | ⋯ | 7 | 2 | NA | NA | NA | NA | 1 | 2 | 60000 |  63.87 |\n",
       "\n"
      ],
      "text/plain": [
       "  SCANID MODULE PROVID SCHID   GRADE SEX SS_010 SS_020 TS_011 TV_010 ⋯ DVTY2ST\n",
       "1 100224 1      35     3589267  9    1   1      13     2      3      ⋯ 1      \n",
       "2 100225 1      35     3589267  9    1   1      13     1      1      ⋯ 1      \n",
       "3 100226 1      35     3589267 12    1   2      NA     4      3      ⋯ 7      \n",
       "4 100227 1      35     3589267 12    2   1      NA     3      2      ⋯ 4      \n",
       "5 100228 1      35     3589267 12    1   1      NA     3      3      ⋯ 6      \n",
       "6 100229 1      35     3589267 11    1   2      NA     4      3      ⋯ 7      \n",
       "  DVLAST30 DVAMTSMK DVCIGWK DVNDSMK DVAVCIGD DVRES DVURBAN DVHHINC2 WTPP  \n",
       "1 1         1        8       5       2       1     2       60000     33.15\n",
       "2 1        10       70       7      10       1     2       60000     33.15\n",
       "3 2        NA       NA      NA      NA       3     2       60000     75.14\n",
       "4 1         0        0       0       0       1     2       60000    105.70\n",
       "5 2        NA       NA      NA      NA       1     2       60000     75.14\n",
       "6 2        NA       NA      NA      NA       1     2       60000     63.87"
      ]
     },
     "metadata": {},
     "output_type": "display_data"
    }
   ],
   "source": [
    "# Reading the data and presenting the first few rows of it as a table\n",
    "data <- read_sav(\"./data/dataset.sav\")\n",
    "data %>%\n",
    "  head()"
   ]
  },
  {
   "cell_type": "markdown",
   "id": "c89fff47-e997-4ad1-b6ba-79956fcdfde8",
   "metadata": {},
   "source": [
    "#### Exploratory analysis"
   ]
  },
  {
   "cell_type": "markdown",
   "id": "f7dd1e2d-9a7c-4d28-b128-03cb734a5824",
   "metadata": {},
   "source": [
    "As described above, we're going to study students from BC and ON and use the derived categorical variable called `regular_smoker`. This boolean variable can be `yes` or `no`, which specifies whether the observed high-school student is a regular smoker"
   ]
  },
  {
   "cell_type": "code",
   "execution_count": 3,
   "id": "7357ef16-bc8c-43f0-af8f-1d887460e48f",
   "metadata": {
    "tags": []
   },
   "outputs": [
    {
     "data": {
      "text/html": [
       "<table class=\"dataframe\">\n",
       "<caption>A tibble: 3 × 3</caption>\n",
       "<thead>\n",
       "\t<tr><th scope=col>province</th><th scope=col>grade</th><th scope=col>regular_smoker</th></tr>\n",
       "\t<tr><th scope=col>&lt;fct&gt;</th><th scope=col>&lt;fct&gt;</th><th scope=col>&lt;chr&gt;</th></tr>\n",
       "</thead>\n",
       "<tbody>\n",
       "\t<tr><td>British Columbia</td><td>Grade 10</td><td>no</td></tr>\n",
       "\t<tr><td>British Columbia</td><td>Grade 10</td><td>no</td></tr>\n",
       "\t<tr><td>British Columbia</td><td>Grade 10</td><td>no</td></tr>\n",
       "</tbody>\n",
       "</table>\n"
      ],
      "text/latex": [
       "A tibble: 3 × 3\n",
       "\\begin{tabular}{lll}\n",
       " province & grade & regular\\_smoker\\\\\n",
       " <fct> & <fct> & <chr>\\\\\n",
       "\\hline\n",
       "\t British Columbia & Grade 10 & no\\\\\n",
       "\t British Columbia & Grade 10 & no\\\\\n",
       "\t British Columbia & Grade 10 & no\\\\\n",
       "\\end{tabular}\n"
      ],
      "text/markdown": [
       "\n",
       "A tibble: 3 × 3\n",
       "\n",
       "| province &lt;fct&gt; | grade &lt;fct&gt; | regular_smoker &lt;chr&gt; |\n",
       "|---|---|---|\n",
       "| British Columbia | Grade 10 | no |\n",
       "| British Columbia | Grade 10 | no |\n",
       "| British Columbia | Grade 10 | no |\n",
       "\n"
      ],
      "text/plain": [
       "  province         grade    regular_smoker\n",
       "1 British Columbia Grade 10 no            \n",
       "2 British Columbia Grade 10 no            \n",
       "3 British Columbia Grade 10 no            "
      ]
     },
     "metadata": {},
     "output_type": "display_data"
    }
   ],
   "source": [
    "# Using the \"Variables\" section table values,\n",
    "# this code creates a new column `regular_smoker` and \n",
    "# filters the data set to contain only observations of BC and ON students\n",
    "tidy_data <- data %>%\n",
    "  filter(GRADE %in% 9:12,\n",
    "         PROVID == 35 | PROVID == 59) %>%\n",
    "  mutate(regular_smoker = if_else(\n",
    "    ((DVRES == 1 | DVRES == 3) &\n",
    "      (TS_011 %in% 1:2) &\n",
    "      (TV_010 %in% 1:2) &\n",
    "      (SS_040 == 1) &\n",
    "      (SS_060 %in% 7:8) &\n",
    "      (WP_030 == 3 | WP_030 == 6)),\n",
    "    \"yes\", \"no\"\n",
    "  )) %>%\n",
    "  filter(!is.na(regular_smoker)) %>%\n",
    "  mutate(province = as_factor(PROVID),\n",
    "         grade = as_factor(GRADE)) %>%\n",
    "  arrange(province) %>%\n",
    "  select(province, grade, regular_smoker)\n",
    "\n",
    "tidy_data %>%\n",
    "  tail(3)"
   ]
  },
  {
   "cell_type": "markdown",
   "id": "711079c0-8170-43e9-bfc6-66dea807af80",
   "metadata": {},
   "source": [
    "We can also find how many observations our filtered data set has."
   ]
  },
  {
   "cell_type": "code",
   "execution_count": 4,
   "id": "ecf8861d-a5bc-4e4f-9fce-10049dfa2792",
   "metadata": {},
   "outputs": [
    {
     "data": {
      "text/html": [
       "<table class=\"dataframe\">\n",
       "<caption>A tibble: 2 × 2</caption>\n",
       "<thead>\n",
       "\t<tr><th scope=col>province</th><th scope=col>obs_count</th></tr>\n",
       "\t<tr><th scope=col>&lt;fct&gt;</th><th scope=col>&lt;int&gt;</th></tr>\n",
       "</thead>\n",
       "<tbody>\n",
       "\t<tr><td>Ontario         </td><td>2805</td></tr>\n",
       "\t<tr><td>British Columbia</td><td>4377</td></tr>\n",
       "</tbody>\n",
       "</table>\n"
      ],
      "text/latex": [
       "A tibble: 2 × 2\n",
       "\\begin{tabular}{ll}\n",
       " province & obs\\_count\\\\\n",
       " <fct> & <int>\\\\\n",
       "\\hline\n",
       "\t Ontario          & 2805\\\\\n",
       "\t British Columbia & 4377\\\\\n",
       "\\end{tabular}\n"
      ],
      "text/markdown": [
       "\n",
       "A tibble: 2 × 2\n",
       "\n",
       "| province &lt;fct&gt; | obs_count &lt;int&gt; |\n",
       "|---|---|\n",
       "| Ontario          | 2805 |\n",
       "| British Columbia | 4377 |\n",
       "\n"
      ],
      "text/plain": [
       "  province         obs_count\n",
       "1 Ontario          2805     \n",
       "2 British Columbia 4377     "
      ]
     },
     "metadata": {},
     "output_type": "display_data"
    }
   ],
   "source": [
    "tidy_data %>%\n",
    "  group_by(province) %>%\n",
    "  summarise(obs_count = n())"
   ]
  },
  {
   "cell_type": "markdown",
   "id": "dcd02b62-7cf3-4ac5-8e76-efcbc112f7a4",
   "metadata": {},
   "source": [
    "The sample size is sufficiently large, but we don't trim it to have same number of observations in each category. The higher number of observations would only improve our analysis as the obtained sample would be more representative of the population. Referring to the data-collection procedure above, we also assume that this sample is not biased, and therefore we can proceed with the analysis.\n",
    "\n",
    "Now we visualize our obtained data to visually estimate the difference in the proportion of smoking students. The bar chart is colored by the `grade` variable to allow us to get a further insight into the data."
   ]
  },
  {
   "cell_type": "code",
   "execution_count": 5,
   "id": "79d87566-da9d-4175-b3c3-bd973fc8dd7f",
   "metadata": {
    "tags": []
   },
   "outputs": [
    {
     "data": {
      "image/png": "[encoded data removed]",
      "text/plain": [
       "plot without title"
      ]
     },
     "metadata": {
      "image/png": {
       "height": 300,
       "width": 900
      }
     },
     "output_type": "display_data"
    }
   ],
   "source": [
    "options(repr.plot.width = 15, repr.plot.height = 5)\n",
    "\n",
    "tidy_data %>%\n",
    "  filter(regular_smoker == \"yes\") %>%\n",
    "  ggplot(aes(x = province, fill = grade)) +\n",
    "  geom_bar(color = \"white\") +\n",
    "  labs(title = \"Number of Canadian High-school Students who Regularly Smoke by Province\",\n",
    "       x = \"Canada Province\",\n",
    "       y = \"Number of High-School Students\",\n",
    "       fill = \"Student Grade\") +\n",
    "  coord_flip() +\n",
    "  theme(text = element_text(size = 18))"
   ]
  },
  {
   "cell_type": "markdown",
   "id": "7e041ec7-d282-4da9-81b6-04352af277a8",
   "metadata": {},
   "source": [
    "The chart tells us that in BC and ON, high-school students are involved in smoking regardless of their grade. Also, it shows that the proportion in ON is a bit larger, so we infer that our point estimate is going to be positive but close to 0."
   ]
  },
  {
   "cell_type": "markdown",
   "id": "505a24ba-3ba9-4228-946a-5405a1194bee",
   "metadata": {},
   "source": [
    "#### Point estimate calculation"
   ]
  },
  {
   "cell_type": "markdown",
   "id": "0988d9ea-3afd-49ec-9a8e-ccb5fbbfbd4a",
   "metadata": {},
   "source": [
    "From this point on, we don't consider `grade` as a variable because we're interested in studying all BC and ON high-school students in general. This approach inevitable introduces some ambiguity, but we think the \"high-school student\" term is specific enough for our study.\n",
    "\n",
    "Therefore, this code removes the `grade` column and shows all possible combinations of our data set rows."
   ]
  },
  {
   "cell_type": "code",
   "execution_count": 6,
   "id": "222a676a-528c-4a73-95d1-8122f08b95b4",
   "metadata": {},
   "outputs": [
    {
     "data": {
      "text/html": [
       "<table class=\"dataframe\">\n",
       "<caption>A tibble: 4 × 2</caption>\n",
       "<thead>\n",
       "\t<tr><th scope=col>province</th><th scope=col>regular_smoker</th></tr>\n",
       "\t<tr><th scope=col>&lt;fct&gt;</th><th scope=col>&lt;chr&gt;</th></tr>\n",
       "</thead>\n",
       "<tbody>\n",
       "\t<tr><td>Ontario         </td><td>no </td></tr>\n",
       "\t<tr><td>Ontario         </td><td>yes</td></tr>\n",
       "\t<tr><td>British Columbia</td><td>no </td></tr>\n",
       "\t<tr><td>British Columbia</td><td>yes</td></tr>\n",
       "</tbody>\n",
       "</table>\n"
      ],
      "text/latex": [
       "A tibble: 4 × 2\n",
       "\\begin{tabular}{ll}\n",
       " province & regular\\_smoker\\\\\n",
       " <fct> & <chr>\\\\\n",
       "\\hline\n",
       "\t Ontario          & no \\\\\n",
       "\t Ontario          & yes\\\\\n",
       "\t British Columbia & no \\\\\n",
       "\t British Columbia & yes\\\\\n",
       "\\end{tabular}\n"
      ],
      "text/markdown": [
       "\n",
       "A tibble: 4 × 2\n",
       "\n",
       "| province &lt;fct&gt; | regular_smoker &lt;chr&gt; |\n",
       "|---|---|\n",
       "| Ontario          | no  |\n",
       "| Ontario          | yes |\n",
       "| British Columbia | no  |\n",
       "| British Columbia | yes |\n",
       "\n"
      ],
      "text/plain": [
       "  province         regular_smoker\n",
       "1 Ontario          no            \n",
       "2 Ontario          yes           \n",
       "3 British Columbia no            \n",
       "4 British Columbia yes           "
      ]
     },
     "metadata": {},
     "output_type": "display_data"
    }
   ],
   "source": [
    "sample <- tidy_data %>%\n",
    "  select(-grade)\n",
    "\n",
    "sample %>%\n",
    "  distinct()"
   ]
  },
  {
   "cell_type": "markdown",
   "id": "a9e5472d-fd44-41b6-b3e5-554449650eb8",
   "metadata": {},
   "source": [
    "Next, we need to find the proportions of regular smokers in each province."
   ]
  },
  {
   "cell_type": "code",
   "execution_count": 7,
   "id": "100ed4d7-0e87-4239-89b8-bc14f74917b9",
   "metadata": {},
   "outputs": [
    {
     "data": {
      "text/html": [
       "<table class=\"dataframe\">\n",
       "<caption>A tibble: 2 × 2</caption>\n",
       "<thead>\n",
       "\t<tr><th scope=col>province</th><th scope=col>prop</th></tr>\n",
       "\t<tr><th scope=col>&lt;fct&gt;</th><th scope=col>&lt;dbl&gt;</th></tr>\n",
       "</thead>\n",
       "<tbody>\n",
       "\t<tr><td>Ontario         </td><td>0.012477718</td></tr>\n",
       "\t<tr><td>British Columbia</td><td>0.007082477</td></tr>\n",
       "</tbody>\n",
       "</table>\n"
      ],
      "text/latex": [
       "A tibble: 2 × 2\n",
       "\\begin{tabular}{ll}\n",
       " province & prop\\\\\n",
       " <fct> & <dbl>\\\\\n",
       "\\hline\n",
       "\t Ontario          & 0.012477718\\\\\n",
       "\t British Columbia & 0.007082477\\\\\n",
       "\\end{tabular}\n"
      ],
      "text/markdown": [
       "\n",
       "A tibble: 2 × 2\n",
       "\n",
       "| province &lt;fct&gt; | prop &lt;dbl&gt; |\n",
       "|---|---|\n",
       "| Ontario          | 0.012477718 |\n",
       "| British Columbia | 0.007082477 |\n",
       "\n"
      ],
      "text/plain": [
       "  province         prop       \n",
       "1 Ontario          0.012477718\n",
       "2 British Columbia 0.007082477"
      ]
     },
     "metadata": {},
     "output_type": "display_data"
    }
   ],
   "source": [
    "# We group our data set by the `province` variable and\n",
    "# calculate the proportion of observations that have `regular_smoker` variable set to `yes`\n",
    "# Here we use the mean function to quickly calculate the needed proportions\n",
    "sample_proportions <- sample %>%\n",
    "  group_by(province) %>%\n",
    "  summarise(prop = mean(regular_smoker == \"yes\"))\n",
    "sample_proportions"
   ]
  },
  {
   "cell_type": "markdown",
   "id": "a5074df9-2b4c-4133-9e0d-caea2dcf33a5",
   "metadata": {},
   "source": [
    "Finally, the code below finds the point estimate by subtracting **the BC proportion from the ON proportion**, i.e., **p̂ = p<sub><sub>ON</sub></sub> - p<sub><sub>BC</sub></sub>**"
   ]
  },
  {
   "cell_type": "code",
   "execution_count": 8,
   "id": "788bc904-ea37-4b6b-b8e3-7fd19e79c25b",
   "metadata": {},
   "outputs": [
    {
     "data": {
      "text/html": [
       "0.00539524177793742"
      ],
      "text/latex": [
       "0.00539524177793742"
      ],
      "text/markdown": [
       "0.00539524177793742"
      ],
      "text/plain": [
       "[1] 0.005395242"
      ]
     },
     "metadata": {},
     "output_type": "display_data"
    }
   ],
   "source": [
    "point_estimate <- \n",
    "  sample_proportions$prop[1] - sample_proportions$prop[2]\n",
    "\n",
    "point_estimate"
   ]
  },
  {
   "cell_type": "markdown",
   "id": "a96e3308-caa1-4139-be07-f26ced49b607",
   "metadata": {},
   "source": [
    "#### Why further analysis is required\n",
    "The point estimate found above tells there is a difference in the true proportions. However, it doesn't take into consideration the standard error associated with the sample we used, i.e., the sample we obtained may not be representative because the true population might have great variability and different samples would give drastically different results.\n",
    "\n",
    "Therefore, we cannot report the value above. Instead, in the next section we'll use Hypothesis Testing and Confidence Intervals to estimate our sample's degree of uncertainly and provide a more reliable result."
   ]
  },
  {
   "cell_type": "markdown",
   "id": "6553e5da-f3b7-4231-8885-aab4298e6a29",
   "metadata": {},
   "source": [
    "## Evaluation"
   ]
  },
  {
   "cell_type": "markdown",
   "id": "9619aae1-7659-4c7c-87cd-a444ab730008",
   "metadata": {},
   "source": [
    "#### Expectations\n",
    "We expect the true proportion difference to be a small value because our graph above and the point estimate show that there's a little difference between the sample proportions.\n",
    "\n",
    "#### Future questions\n",
    "Others can extend our research question by comparing the proportions of high-school smoking students between other Canadian provinces."
   ]
  },
  {
   "cell_type": "markdown",
   "id": "44567776",
   "metadata": {
    "pycharm": {
     "name": "#%% md\n"
    }
   },
   "source": [
    "## References\n",
    "Burton, Suzan, et al. “‘Smoking Is Bad, It’s Not Cool…yet\n",
    "I’m Still Doing It’: Cues for Tobacco Consumption in a ‘Dark’ Market.” *Journal\n",
    "of Business Research*, vol. 68, no. 10, 1 Oct. 2015, pp. 2067–2074,\n",
    "www.sciencedirect.com/science/article/pii/S0148296315001186, 10.1016/j.jbusres.2015.03.004.\n",
    "Accessed 14 Dec. 2021.\n",
    "\n",
    "Canada, Health, and PROPEL Centre for Population Health\n",
    "Impact. “2018/2019 Canadian Student Tobacco, Alcohol and Drugs Survey.” *Abacus.library.ubc.ca*,\n",
    "18 Nov. 2020, abacus.library.ubc.ca/dataset.xhtml?persistentId=hdl:11272.1/AB2/WEFOHY.\n",
    "Accessed 1 Mar. 2022.\n",
    "\n",
    "Johnson, Joy L., et al. “Socio-Demographic Correlates of\n",
    "Cigarette Smoking among High School Students.” *Canadian Journal of Public\n",
    "Health*, vol. 95, no. 4, July 2004, pp. 268–271, 10.1007/bf03405129.\n",
    "Accessed 5 May 2020.\n",
    "\n",
    "Reitsma, Angela H., and Steve Manske. “Smoking in Ontario\n",
    "Schools.” *Canadian Journal of Public Health*, vol. 95, no. 3, May 2004,\n",
    "pp. 214–218, 10.1007/bf03403652. Accessed 29 Oct. 2019."
   ]
  },
  {
   "cell_type": "markdown",
   "id": "fa18c521-5ed9-4d69-95c7-8a0d44e28063",
   "metadata": {},
   "source": [
    "**Word Count: 487**"
   ]
  }
 ],
 "metadata": {
  "kernelspec": {
   "display_name": "R",
   "language": "R",
   "name": "ir"
  },
  "language_info": {
   "codemirror_mode": "r",
   "file_extension": ".r",
   "mimetype": "text/x-r-source",
   "name": "R",
   "pygments_lexer": "r",
   "version": "4.1.1"
  }
 },
 "nbformat": 4,
 "nbformat_minor": 5
}
